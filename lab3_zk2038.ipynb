{
  "nbformat": 4,
  "nbformat_minor": 0,
  "metadata": {
    "colab": {
      "name": "lab3_zk2038.ipynb",
      "provenance": [],
      "collapsed_sections": [],
      "toc_visible": true,
      "machine_shape": "hm"
    },
    "kernelspec": {
      "name": "python3",
      "display_name": "Python 3"
    },
    "accelerator": "GPU"
  },
  "cells": [
    {
      "cell_type": "markdown",
      "source": [
        "# BadNet Model\n",
        "\n"
      ],
      "metadata": {
        "id": "Y7VU01REW4bD"
      }
    },
    {
      "cell_type": "code",
      "source": [
        "import tensorflow as tf\n",
        "import keras\n",
        "import keras.backend as K\n",
        "import h5py\n",
        "import numpy as np\n",
        "import matplotlib.pyplot as plt\n",
        "%matplotlib inline"
      ],
      "metadata": {
        "id": "ldmJ7DkZZlIo"
      },
      "execution_count": 1,
      "outputs": []
    },
    {
      "cell_type": "markdown",
      "source": [
        "Mount the google drive. Model is at`/content/drive/MyDrive/MLSproject`."
      ],
      "metadata": {
        "id": "eBMv8ks5YKgI"
      }
    },
    {
      "cell_type": "code",
      "source": [
        "from google.colab import drive\n",
        "drive.mount('/content/drive')\n",
        "%cd /content/drive/MyDrive/MLSproject\n",
        "path = './models/bd_net.h5'\n",
        "bad_model = keras.models.load_model(path)\n",
        "bad_model.summary()"
      ],
      "metadata": {
        "id": "jjkuINHMQL3D",
        "outputId": "f0508e45-ebc5-4470-d03e-5078b4b11728",
        "colab": {
          "base_uri": "https://localhost:8080/"
        }
      },
      "execution_count": 2,
      "outputs": [
        {
          "output_type": "stream",
          "name": "stdout",
          "text": [
            "Drive already mounted at /content/drive; to attempt to forcibly remount, call drive.mount(\"/content/drive\", force_remount=True).\n",
            "/content/drive/MyDrive/MLSproject\n",
            "Model: \"model_1\"\n",
            "__________________________________________________________________________________________________\n",
            " Layer (type)                   Output Shape         Param #     Connected to                     \n",
            "==================================================================================================\n",
            " input (InputLayer)             [(None, 55, 47, 3)]  0           []                               \n",
            "                                                                                                  \n",
            " conv_1 (Conv2D)                (None, 52, 44, 20)   980         ['input[0][0]']                  \n",
            "                                                                                                  \n",
            " pool_1 (MaxPooling2D)          (None, 26, 22, 20)   0           ['conv_1[0][0]']                 \n",
            "                                                                                                  \n",
            " conv_2 (Conv2D)                (None, 24, 20, 40)   7240        ['pool_1[0][0]']                 \n",
            "                                                                                                  \n",
            " pool_2 (MaxPooling2D)          (None, 12, 10, 40)   0           ['conv_2[0][0]']                 \n",
            "                                                                                                  \n",
            " conv_3 (Conv2D)                (None, 10, 8, 60)    21660       ['pool_2[0][0]']                 \n",
            "                                                                                                  \n",
            " pool_3 (MaxPooling2D)          (None, 5, 4, 60)     0           ['conv_3[0][0]']                 \n",
            "                                                                                                  \n",
            " conv_4 (Conv2D)                (None, 4, 3, 80)     19280       ['pool_3[0][0]']                 \n",
            "                                                                                                  \n",
            " flatten_1 (Flatten)            (None, 1200)         0           ['pool_3[0][0]']                 \n",
            "                                                                                                  \n",
            " flatten_2 (Flatten)            (None, 960)          0           ['conv_4[0][0]']                 \n",
            "                                                                                                  \n",
            " fc_1 (Dense)                   (None, 160)          192160      ['flatten_1[0][0]']              \n",
            "                                                                                                  \n",
            " fc_2 (Dense)                   (None, 160)          153760      ['flatten_2[0][0]']              \n",
            "                                                                                                  \n",
            " add_1 (Add)                    (None, 160)          0           ['fc_1[0][0]',                   \n",
            "                                                                  'fc_2[0][0]']                   \n",
            "                                                                                                  \n",
            " activation_1 (Activation)      (None, 160)          0           ['add_1[0][0]']                  \n",
            "                                                                                                  \n",
            " output (Dense)                 (None, 1283)         206563      ['activation_1[0][0]']           \n",
            "                                                                                                  \n",
            "==================================================================================================\n",
            "Total params: 601,643\n",
            "Trainable params: 601,643\n",
            "Non-trainable params: 0\n",
            "__________________________________________________________________________________________________\n"
          ]
        }
      ]
    },
    {
      "cell_type": "code",
      "source": [
        "#current accurancy\n",
        "!python original_eval.py data/cl/test.h5 data/bd/bd_test.h5 models/bd_net.h5"
      ],
      "metadata": {
        "id": "Sh2vLOGR5dwo",
        "colab": {
          "base_uri": "https://localhost:8080/"
        },
        "outputId": "2b97d1f9-dd7e-4689-a59f-8c0603524f7d"
      },
      "execution_count": 3,
      "outputs": [
        {
          "output_type": "stream",
          "name": "stdout",
          "text": [
            "2021-12-14 15:28:56.238229: W tensorflow/core/common_runtime/gpu/gpu_bfc_allocator.cc:39] Overriding allow_growth setting because the TF_FORCE_GPU_ALLOW_GROWTH environment variable is set. Original config value was 0.\n",
            "Clean Classification accuracy: 98.62042088854248\n",
            "Attack Success Rate: 100.0\n"
          ]
        }
      ]
    },
    {
      "cell_type": "markdown",
      "source": [
        "# Load datasets"
      ],
      "metadata": {
        "id": "mOAwC7XTjD9v"
      }
    },
    {
      "cell_type": "code",
      "source": [
        "#first try to load the datasets\n",
        "data_path = '/content/drive/MyDrive/MLSproject/data/cl/test.h5'\n",
        "data = h5py.File(data_path, 'r')\n",
        "data.keys()"
      ],
      "metadata": {
        "colab": {
          "base_uri": "https://localhost:8080/"
        },
        "id": "3AenXfPjas5E",
        "outputId": "6bfa9201-0cdb-4227-9183-8d294424b5de"
      },
      "execution_count": 4,
      "outputs": [
        {
          "output_type": "execute_result",
          "data": {
            "text/plain": [
              "<KeysViewHDF5 ['data', 'label']>"
            ]
          },
          "metadata": {},
          "execution_count": 4
        }
      ]
    },
    {
      "cell_type": "code",
      "source": [
        "cl_test_x = np.array(data['data'])\n",
        "cl_test_y = np.array(data['label'])\n",
        "print(cl_test_x.shape)\n",
        "print(cl_test_y.shape)\n",
        "print(f\"Total classes:{len(set(cl_test_y))}\")"
      ],
      "metadata": {
        "colab": {
          "base_uri": "https://localhost:8080/"
        },
        "id": "-n3v8Apya4Nb",
        "outputId": "59390965-0ce6-45d9-dd84-1fe594f14e1a"
      },
      "execution_count": 5,
      "outputs": [
        {
          "output_type": "stream",
          "name": "stdout",
          "text": [
            "(12830, 3, 55, 47)\n",
            "(12830,)\n",
            "Total classes:1283\n"
          ]
        }
      ]
    },
    {
      "cell_type": "code",
      "source": [
        "#we need to transpose this dataset\n",
        "cl_test_x = cl_test_x.transpose((0,2,3,1))\n",
        "cl_test_x.shape"
      ],
      "metadata": {
        "colab": {
          "base_uri": "https://localhost:8080/"
        },
        "id": "gK4YQTVIbTBb",
        "outputId": "2b8323a2-7fb9-4451-b93a-51d49544eacc"
      },
      "execution_count": 6,
      "outputs": [
        {
          "output_type": "execute_result",
          "data": {
            "text/plain": [
              "(12830, 55, 47, 3)"
            ]
          },
          "metadata": {},
          "execution_count": 6
        }
      ]
    },
    {
      "cell_type": "code",
      "source": [
        "#define a function to load datasets\n",
        "def load_data(path):\n",
        "  '''\n",
        "  Load dataset\n",
        "  '''\n",
        "  data = h5py.File(path, 'r')\n",
        "  x = np.array(data['data'])\n",
        "  y = np.array(data['label'])\n",
        "  x = x.transpose((0,2,3,1))\n",
        "  print(f\"Load data from {path}: \\tx:{x.shape}\\ty: {y.shape}\")\n",
        "  return x, y"
      ],
      "metadata": {
        "id": "ZJRCwb86Y4no"
      },
      "execution_count": 7,
      "outputs": []
    },
    {
      "cell_type": "code",
      "source": [
        "#Now load all test and validation datasets\n",
        "cl_test_path = '/content/drive/MyDrive/MLSproject/data/cl/test.h5'\n",
        "cl_test_x, cl_test_y = load_data(cl_test_path)\n",
        "cl_valid_path = '/content/drive/MyDrive/MLSproject/data/cl/valid.h5'\n",
        "cl_valid_x, cl_valid_y = load_data(cl_valid_path)\n",
        "bd_test_path = '/content/drive/MyDrive/MLSproject/data/bd/bd_test.h5'\n",
        "bd_test_x, bd_test_y = load_data(bd_test_path)\n",
        "bd_valid_path = '/content/drive/MyDrive/MLSproject/data/bd/bd_valid.h5'\n",
        "bd_valid_x, bd_valid_y = load_data(bd_valid_path)"
      ],
      "metadata": {
        "colab": {
          "base_uri": "https://localhost:8080/"
        },
        "id": "PKrQJ-LQbhSg",
        "outputId": "3e480891-90d9-4414-8bf4-7625ced27392"
      },
      "execution_count": 8,
      "outputs": [
        {
          "output_type": "stream",
          "name": "stdout",
          "text": [
            "Load data from /content/drive/MyDrive/MLSproject/data/cl/test.h5: \tx:(12830, 55, 47, 3)\ty: (12830,)\n",
            "Load data from /content/drive/MyDrive/MLSproject/data/cl/valid.h5: \tx:(11547, 55, 47, 3)\ty: (11547,)\n",
            "Load data from /content/drive/MyDrive/MLSproject/data/bd/bd_test.h5: \tx:(12830, 55, 47, 3)\ty: (12830,)\n",
            "Load data from /content/drive/MyDrive/MLSproject/data/bd/bd_valid.h5: \tx:(11547, 55, 47, 3)\ty: (11547,)\n"
          ]
        }
      ]
    },
    {
      "cell_type": "markdown",
      "source": [
        "# Prune the last pooling layer"
      ],
      "metadata": {
        "id": "3gDFrf9t52Dl"
      }
    },
    {
      "cell_type": "code",
      "source": [
        "#to prune the last pooling layer, should use conv_3\n",
        "path = '/content/drive/MyDrive/MLSproject/models/bd_net.h5'\n",
        "repaired_model = keras.models.load_model(path)\n",
        "repaired_layer = repaired_model.get_layer('conv_3')\n",
        "layer_model = keras.Model(inputs=repaired_model.input, outputs=repaired_layer.output)\n",
        "#obtain average activation values\n",
        "cl_output = np.mean(layer_model.predict(cl_valid_x), axis=0) \n",
        "#sort in increasing order by sum of values\n",
        "cl_idx = np.argsort(np.sum(cl_output, axis=(0, 1))) \n",
        "print('Increasing index order:', cl_idx)"
      ],
      "metadata": {
        "colab": {
          "base_uri": "https://localhost:8080/"
        },
        "id": "LJxYxMq8W4dX",
        "outputId": "5ca796f9-bde2-432d-9f29-31c534542bff"
      },
      "execution_count": 9,
      "outputs": [
        {
          "output_type": "stream",
          "name": "stdout",
          "text": [
            "Increasing index order: [ 0 26 27 30 31 33 34 36 37 38 25 39 41 44 45 47 48 49 50 53 55 40 24 59\n",
            "  9  2 12 13 17 14 15 23  6 51 32 22 21 20 19 43  3 58 42  1 29 16  5 56\n",
            "  8 11 46 54 10  4 18  7 28 35 52 57]\n"
          ]
        }
      ]
    },
    {
      "cell_type": "code",
      "source": [
        "def accuracy(model, x, y):\n",
        "    \"\"\"\n",
        "    Compute classification accuracy\n",
        "    \"\"\"\n",
        "    y_pred = np.argmax(model.predict(x), axis=1)\n",
        "    acc = np.mean(np.equal(y_pred, y))*100\n",
        "    #print('Accuracy:', acc)\n",
        "    return acc"
      ],
      "metadata": {
        "id": "TPwUwqE6ljir"
      },
      "execution_count": 10,
      "outputs": []
    },
    {
      "cell_type": "code",
      "source": [
        "#just define a repair function\n",
        "def repair(X):\n",
        "  '''\n",
        "  X: percentage of accuracy reduced\n",
        "  return two dictionary: keys: different percentages; values: clean accuracy/ attack success rate\n",
        "  '''\n",
        "  import copy\n",
        "  #to prune the last pooling layer, should use conv_3\n",
        "  path = '/content/drive/MyDrive/MLSproject/models/bd_net.h5'\n",
        "  repaired_model = keras.models.load_model(path)\n",
        "  repaired_layer = repaired_model.get_layer('conv_3')\n",
        "  layer_model = keras.Model(inputs=repaired_model.input, outputs=repaired_layer.output)\n",
        "  #obtain average activation values\n",
        "  cl_output = np.mean(layer_model.predict(cl_valid_x), axis=0) \n",
        "  #sort in increasing order by sum of values\n",
        "  cl_idx = np.argsort(np.sum(cl_output, axis=(0, 1))) \n",
        "  weight, bias = repaired_layer.get_weights()\n",
        "\n",
        "  iter = 0\n",
        "  acc_cl = []\n",
        "  attack_sr = []\n",
        "  #dictionary store every accuracy and attack sr for different x\n",
        "  acc_x = {}\n",
        "  attack_x ={}\n",
        "  ori_acc = accuracy(bad_model, cl_valid_x, cl_valid_y)\n",
        "  ori_attack_rate = accuracy(repaired_model, bd_test_x, bd_test_y)\n",
        "  percentages = copy.deepcopy(X)\n",
        "  \n",
        "\n",
        "  for i in cl_idx:\n",
        "      weight[:, :, :, i] = 0\n",
        "      bias[i] = 0\n",
        "      repaired_layer.set_weights([weight, bias])\n",
        "      iter += 1\n",
        "      #because of the limited memory, the first 30 iterations won't compute accuracy, because there are no change\n",
        "      if iter >30:\n",
        "        acc = accuracy(repaired_model, cl_valid_x, cl_valid_y) \n",
        "        attack_rate = accuracy(repaired_model, bd_test_x, bd_test_y)\n",
        "      else:\n",
        "        acc = ori_acc\n",
        "        attack_rate = ori_attack_rate\n",
        "      acc_cl.append(acc)\n",
        "      attack_sr.append(attack_rate)\n",
        "      print(f'iteration {iter}: accuracy {acc:.2f}%, attack success rate: {attack_rate:.2f}%')\n",
        "      #check the percentage of prune\n",
        "      while percentages:\n",
        "        x = percentages[0]\n",
        "        if ori_acc - acc >= x*100:\n",
        "          #should use deepcopy\n",
        "          acc_x[x] = copy.deepcopy(acc_cl)\n",
        "          attack_x[x] = copy.deepcopy(attack_sr)\n",
        "          print(f\"Prune {x*100}% with accuracy {acc:.2f}%, attack success rate: {attack_rate:.2f}%\")\n",
        "          #pass the first percentage\n",
        "          repaired_model.save('/content/drive/MyDrive/MLSproject/models/repaired_net_'+str(x*100)+'.h5')\n",
        "          percentages.pop(0)\n",
        "        else:\n",
        "          break\n",
        "  #print(f\"Completed with accuracy {acc:.2f}%, attack success rate: {attack_rate:.2f}%\")\n",
        "  #prune_channel = i+1\n",
        "\n",
        "  return acc_x, attack_x\n"
      ],
      "metadata": {
        "id": "vnPDsc-xsebi"
      },
      "execution_count": 11,
      "outputs": []
    },
    {
      "cell_type": "code",
      "source": [
        "#X = {2%,4%,10%,30%}\n",
        "X=[0.02,0.04,0.1,0.3]\n",
        "acc_x, attack_x = repair(X)\n",
        "print(acc_x,attack_x)"
      ],
      "metadata": {
        "colab": {
          "base_uri": "https://localhost:8080/"
        },
        "id": "lTzEQJ1OcKIp",
        "outputId": "9f90608e-fe9d-40ab-e7b8-024e0fa3c584"
      },
      "execution_count": 12,
      "outputs": [
        {
          "output_type": "stream",
          "name": "stdout",
          "text": [
            "iteration 1: accuracy 98.65%, attack success rate: 100.00%\n",
            "iteration 2: accuracy 98.65%, attack success rate: 100.00%\n",
            "iteration 3: accuracy 98.65%, attack success rate: 100.00%\n",
            "iteration 4: accuracy 98.65%, attack success rate: 100.00%\n",
            "iteration 5: accuracy 98.65%, attack success rate: 100.00%\n",
            "iteration 6: accuracy 98.65%, attack success rate: 100.00%\n",
            "iteration 7: accuracy 98.65%, attack success rate: 100.00%\n",
            "iteration 8: accuracy 98.65%, attack success rate: 100.00%\n",
            "iteration 9: accuracy 98.65%, attack success rate: 100.00%\n",
            "iteration 10: accuracy 98.65%, attack success rate: 100.00%\n",
            "iteration 11: accuracy 98.65%, attack success rate: 100.00%\n",
            "iteration 12: accuracy 98.65%, attack success rate: 100.00%\n",
            "iteration 13: accuracy 98.65%, attack success rate: 100.00%\n",
            "iteration 14: accuracy 98.65%, attack success rate: 100.00%\n",
            "iteration 15: accuracy 98.65%, attack success rate: 100.00%\n",
            "iteration 16: accuracy 98.65%, attack success rate: 100.00%\n",
            "iteration 17: accuracy 98.65%, attack success rate: 100.00%\n",
            "iteration 18: accuracy 98.65%, attack success rate: 100.00%\n",
            "iteration 19: accuracy 98.65%, attack success rate: 100.00%\n",
            "iteration 20: accuracy 98.65%, attack success rate: 100.00%\n",
            "iteration 21: accuracy 98.65%, attack success rate: 100.00%\n",
            "iteration 22: accuracy 98.65%, attack success rate: 100.00%\n",
            "iteration 23: accuracy 98.65%, attack success rate: 100.00%\n",
            "iteration 24: accuracy 98.65%, attack success rate: 100.00%\n",
            "iteration 25: accuracy 98.65%, attack success rate: 100.00%\n",
            "iteration 26: accuracy 98.65%, attack success rate: 100.00%\n",
            "iteration 27: accuracy 98.65%, attack success rate: 100.00%\n",
            "iteration 28: accuracy 98.65%, attack success rate: 100.00%\n",
            "iteration 29: accuracy 98.65%, attack success rate: 100.00%\n",
            "iteration 30: accuracy 98.65%, attack success rate: 100.00%\n",
            "iteration 31: accuracy 98.65%, attack success rate: 100.00%\n",
            "iteration 32: accuracy 98.65%, attack success rate: 100.00%\n",
            "iteration 33: accuracy 98.65%, attack success rate: 100.00%\n",
            "iteration 34: accuracy 98.64%, attack success rate: 100.00%\n",
            "iteration 35: accuracy 98.64%, attack success rate: 100.00%\n",
            "iteration 36: accuracy 98.63%, attack success rate: 100.00%\n",
            "iteration 37: accuracy 98.66%, attack success rate: 100.00%\n",
            "iteration 38: accuracy 98.65%, attack success rate: 100.00%\n",
            "iteration 39: accuracy 98.61%, attack success rate: 100.00%\n",
            "iteration 40: accuracy 98.57%, attack success rate: 100.00%\n",
            "iteration 41: accuracy 98.25%, attack success rate: 100.00%\n",
            "iteration 42: accuracy 98.19%, attack success rate: 100.00%\n",
            "iteration 43: accuracy 97.65%, attack success rate: 100.00%\n",
            "iteration 44: accuracy 97.51%, attack success rate: 100.00%\n",
            "iteration 45: accuracy 95.76%, attack success rate: 100.00%\n",
            "Prune 2.0% with accuracy 95.76%, attack success rate: 100.00%\n"
          ]
        },
        {
          "output_type": "stream",
          "name": "stderr",
          "text": [
            "/usr/local/lib/python3.7/dist-packages/keras/engine/functional.py:1410: CustomMaskWarning: Custom mask layers require a config and must override get_config. When loading, the custom mask layer must be passed to the custom_objects argument.\n",
            "  layer_config = serialize_layer_fn(layer)\n"
          ]
        },
        {
          "output_type": "stream",
          "name": "stdout",
          "text": [
            "iteration 46: accuracy 95.20%, attack success rate: 99.98%\n",
            "iteration 47: accuracy 94.78%, attack success rate: 99.98%\n",
            "iteration 48: accuracy 94.34%, attack success rate: 99.98%\n",
            "Prune 4.0% with accuracy 94.34%, attack success rate: 99.98%\n",
            "iteration 49: accuracy 93.85%, attack success rate: 99.98%\n",
            "iteration 50: accuracy 92.16%, attack success rate: 80.58%\n",
            "iteration 51: accuracy 89.17%, attack success rate: 80.65%\n",
            "iteration 52: accuracy 84.44%, attack success rate: 77.21%\n",
            "Prune 10.0% with accuracy 84.44%, attack success rate: 77.21%\n",
            "iteration 53: accuracy 76.49%, attack success rate: 36.27%\n",
            "iteration 54: accuracy 45.69%, attack success rate: 16.03%\n",
            "Prune 30.0% with accuracy 45.69%, attack success rate: 16.03%\n",
            "iteration 55: accuracy 28.15%, attack success rate: 3.73%\n",
            "iteration 56: accuracy 13.80%, attack success rate: 16.40%\n",
            "iteration 57: accuracy 5.81%, attack success rate: 0.30%\n",
            "iteration 58: accuracy 1.55%, attack success rate: 0.00%\n",
            "iteration 59: accuracy 0.72%, attack success rate: 0.00%\n",
            "iteration 60: accuracy 0.08%, attack success rate: 0.00%\n",
            "{0.02: [98.64899974019225, 98.64899974019225, 98.64899974019225, 98.64899974019225, 98.64899974019225, 98.64899974019225, 98.64899974019225, 98.64899974019225, 98.64899974019225, 98.64899974019225, 98.64899974019225, 98.64899974019225, 98.64899974019225, 98.64899974019225, 98.64899974019225, 98.64899974019225, 98.64899974019225, 98.64899974019225, 98.64899974019225, 98.64899974019225, 98.64899974019225, 98.64899974019225, 98.64899974019225, 98.64899974019225, 98.64899974019225, 98.64899974019225, 98.64899974019225, 98.64899974019225, 98.64899974019225, 98.64899974019225, 98.64899974019225, 98.64899974019225, 98.64899974019225, 98.64033948211657, 98.64033948211657, 98.63167922404088, 98.65765999826795, 98.64899974019225, 98.6056984498138, 98.57105741751104, 98.25062786871048, 98.19000606218066, 97.65307006148784, 97.50584567420108, 95.75647354291158], 0.04: [98.64899974019225, 98.64899974019225, 98.64899974019225, 98.64899974019225, 98.64899974019225, 98.64899974019225, 98.64899974019225, 98.64899974019225, 98.64899974019225, 98.64899974019225, 98.64899974019225, 98.64899974019225, 98.64899974019225, 98.64899974019225, 98.64899974019225, 98.64899974019225, 98.64899974019225, 98.64899974019225, 98.64899974019225, 98.64899974019225, 98.64899974019225, 98.64899974019225, 98.64899974019225, 98.64899974019225, 98.64899974019225, 98.64899974019225, 98.64899974019225, 98.64899974019225, 98.64899974019225, 98.64899974019225, 98.64899974019225, 98.64899974019225, 98.64899974019225, 98.64033948211657, 98.64033948211657, 98.63167922404088, 98.65765999826795, 98.64899974019225, 98.6056984498138, 98.57105741751104, 98.25062786871048, 98.19000606218066, 97.65307006148784, 97.50584567420108, 95.75647354291158, 95.20221702606739, 94.77786438035854, 94.344851476574], 0.1: [98.64899974019225, 98.64899974019225, 98.64899974019225, 98.64899974019225, 98.64899974019225, 98.64899974019225, 98.64899974019225, 98.64899974019225, 98.64899974019225, 98.64899974019225, 98.64899974019225, 98.64899974019225, 98.64899974019225, 98.64899974019225, 98.64899974019225, 98.64899974019225, 98.64899974019225, 98.64899974019225, 98.64899974019225, 98.64899974019225, 98.64899974019225, 98.64899974019225, 98.64899974019225, 98.64899974019225, 98.64899974019225, 98.64899974019225, 98.64899974019225, 98.64899974019225, 98.64899974019225, 98.64899974019225, 98.64899974019225, 98.64899974019225, 98.64899974019225, 98.64033948211657, 98.64033948211657, 98.63167922404088, 98.65765999826795, 98.64899974019225, 98.6056984498138, 98.57105741751104, 98.25062786871048, 98.19000606218066, 97.65307006148784, 97.50584567420108, 95.75647354291158, 95.20221702606739, 94.77786438035854, 94.344851476574, 93.85121676625964, 92.16246644149996, 89.17467740538669, 84.43751623798389], 0.3: [98.64899974019225, 98.64899974019225, 98.64899974019225, 98.64899974019225, 98.64899974019225, 98.64899974019225, 98.64899974019225, 98.64899974019225, 98.64899974019225, 98.64899974019225, 98.64899974019225, 98.64899974019225, 98.64899974019225, 98.64899974019225, 98.64899974019225, 98.64899974019225, 98.64899974019225, 98.64899974019225, 98.64899974019225, 98.64899974019225, 98.64899974019225, 98.64899974019225, 98.64899974019225, 98.64899974019225, 98.64899974019225, 98.64899974019225, 98.64899974019225, 98.64899974019225, 98.64899974019225, 98.64899974019225, 98.64899974019225, 98.64899974019225, 98.64899974019225, 98.64033948211657, 98.64033948211657, 98.63167922404088, 98.65765999826795, 98.64899974019225, 98.6056984498138, 98.57105741751104, 98.25062786871048, 98.19000606218066, 97.65307006148784, 97.50584567420108, 95.75647354291158, 95.20221702606739, 94.77786438035854, 94.344851476574, 93.85121676625964, 92.16246644149996, 89.17467740538669, 84.43751623798389, 76.48739932449988, 45.6915216073439]} {0.02: [100.0, 100.0, 100.0, 100.0, 100.0, 100.0, 100.0, 100.0, 100.0, 100.0, 100.0, 100.0, 100.0, 100.0, 100.0, 100.0, 100.0, 100.0, 100.0, 100.0, 100.0, 100.0, 100.0, 100.0, 100.0, 100.0, 100.0, 100.0, 100.0, 100.0, 100.0, 100.0, 100.0, 100.0, 100.0, 100.0, 100.0, 100.0, 100.0, 100.0, 100.0, 100.0, 100.0, 100.0, 100.0], 0.04: [100.0, 100.0, 100.0, 100.0, 100.0, 100.0, 100.0, 100.0, 100.0, 100.0, 100.0, 100.0, 100.0, 100.0, 100.0, 100.0, 100.0, 100.0, 100.0, 100.0, 100.0, 100.0, 100.0, 100.0, 100.0, 100.0, 100.0, 100.0, 100.0, 100.0, 100.0, 100.0, 100.0, 100.0, 100.0, 100.0, 100.0, 100.0, 100.0, 100.0, 100.0, 100.0, 100.0, 100.0, 100.0, 99.97661730319564, 99.97661730319564, 99.98441153546376], 0.1: [100.0, 100.0, 100.0, 100.0, 100.0, 100.0, 100.0, 100.0, 100.0, 100.0, 100.0, 100.0, 100.0, 100.0, 100.0, 100.0, 100.0, 100.0, 100.0, 100.0, 100.0, 100.0, 100.0, 100.0, 100.0, 100.0, 100.0, 100.0, 100.0, 100.0, 100.0, 100.0, 100.0, 100.0, 100.0, 100.0, 100.0, 100.0, 100.0, 100.0, 100.0, 100.0, 100.0, 100.0, 100.0, 99.97661730319564, 99.97661730319564, 99.98441153546376, 99.97661730319564, 80.576773187841, 80.6469212782541, 77.20966484801247], 0.3: [100.0, 100.0, 100.0, 100.0, 100.0, 100.0, 100.0, 100.0, 100.0, 100.0, 100.0, 100.0, 100.0, 100.0, 100.0, 100.0, 100.0, 100.0, 100.0, 100.0, 100.0, 100.0, 100.0, 100.0, 100.0, 100.0, 100.0, 100.0, 100.0, 100.0, 100.0, 100.0, 100.0, 100.0, 100.0, 100.0, 100.0, 100.0, 100.0, 100.0, 100.0, 100.0, 100.0, 100.0, 100.0, 99.97661730319564, 99.97661730319564, 99.98441153546376, 99.97661730319564, 80.576773187841, 80.6469212782541, 77.20966484801247, 36.26656274356976, 16.03273577552611]}\n"
          ]
        }
      ]
    },
    {
      "cell_type": "markdown",
      "source": [
        "# Plot the results\n",
        "Plot the accuracy on clean test data and the attack success rate (on backdoored test\n",
        "data) as a function of the fraction of channels pruned."
      ],
      "metadata": {
        "id": "MTJHm5iYr8C4"
      }
    },
    {
      "cell_type": "code",
      "source": [
        "# plot the accuracy\n",
        "channels = len(cl_idx)\n",
        "length = len(X)\n",
        "plt.figure(figsize=(20, 5))\n",
        "for i,x in enumerate(X):\n",
        "  acc_cl = acc_x[x]\n",
        "  attack_sr = attack_x[x]\n",
        "  x_values = [i/channels for i in range(len(acc_cl))]\n",
        "  plt.subplot(1,length, i+1)\n",
        "  plt.plot(x_values, acc_cl, label=\"Clean Data Accuracy\")\n",
        "  plt.plot(x_values, attack_sr, Label=\"Attack Success Rate\")\n",
        "  plt.xlabel('Fraction of channels pruned')\n",
        "  plt.ylabel('Percentages')\n",
        "  plt.xlim(0,1)\n",
        "  #plt.ylim(0,100)\n",
        "  plt.title('X='+str(x*100)+\"%\")\n",
        "  plt.legend()\n",
        "  plt.grid('on')\n",
        "plt.show()"
      ],
      "metadata": {
        "id": "hEB4VIbQiGCG",
        "colab": {
          "base_uri": "https://localhost:8080/",
          "height": 350
        },
        "outputId": "841321b9-857b-4bf1-bcff-ebf19246e7cb"
      },
      "execution_count": 21,
      "outputs": [
        {
          "output_type": "display_data",
          "data": {
            "image/png": "[encoded data removed]",
            "text/plain": [
              "<Figure size 1440x360 with 4 Axes>"
            ]
          },
          "metadata": {
            "needs_background": "light"
          }
        }
      ]
    },
    {
      "cell_type": "markdown",
      "source": [
        "# Comments"
      ],
      "metadata": {
        "id": "j2f69rSLblyS"
      }
    },
    {
      "cell_type": "markdown",
      "source": [
        "As shown in figures above, the pruning defense didn't work well for this model. Because when the clean data accuracy dropped about 10%, the attack success rate only dropped to 77%. And if we want the attack success rate be reduced to 10%, then the clean data accurary will be also rapidly reduced to 45%. The result is not good for defender. Thus I think this defense is not working."
      ],
      "metadata": {
        "id": "_uThLL3Ukfqu"
      }
    },
    {
      "cell_type": "markdown",
      "source": [
        "# GoodNet Model\n"
      ],
      "metadata": {
        "id": "e5jj8-of89ul"
      }
    },
    {
      "cell_type": "code",
      "source": [
        "#the total number of classes\n",
        "N = len(set(cl_test_y))\n",
        "print(N)"
      ],
      "metadata": {
        "colab": {
          "base_uri": "https://localhost:8080/"
        },
        "id": "AFMrZnvp9kXY",
        "outputId": "ef9b6c48-0116-4053-9c3a-762211167fee"
      },
      "execution_count": 15,
      "outputs": [
        {
          "output_type": "stream",
          "name": "stdout",
          "text": [
            "1283\n"
          ]
        }
      ]
    },
    {
      "cell_type": "code",
      "source": [
        "path = './models/bd_net.h5'\n",
        "bad_model = keras.models.load_model(path)"
      ],
      "metadata": {
        "id": "qL5wKqE7-dQZ"
      },
      "execution_count": 16,
      "outputs": []
    },
    {
      "cell_type": "code",
      "source": [
        "def GoodNet(bad_model, repaired_model, data, N=N):\n",
        "    \"\"\"\n",
        "    GoodNet:\n",
        "    For each test input, you will run it through both bad_model and repaired_model. \n",
        "    If the classification outputs are the same, i.e., class i, you will output class i. \n",
        "    If they differ you will output N+1.\n",
        "    \"\"\"\n",
        "    y_pred_bad = np.argmax(bad_model.predict(data), axis=1)\n",
        "    y_pred_repaired = np.argmax(repaired_model.predict(data), axis=1)\n",
        "    y_hat = [y_pred_bad[i] if y_pred_bad[i] == y_pred_repaired[i] else N for i in range(len(y_pred_bad))]\n",
        "    count = 0\n",
        "    for i in range(len(y_pred_bad)):\n",
        "      if y_pred_bad[i] != y_pred_repaired[i]:\n",
        "        count +=1\n",
        "        print(f\"Predicted Class: Bad Net: {y_pred_bad[i]}, Repaired Net: {y_pred_repaired[i]}, Good Net: {y_hat[i]}\")\n",
        "    print(f'There are {count} backdoored inputs predicted as new class {N} now.')\n",
        "\n",
        "    \n",
        "    return y_hat"
      ],
      "metadata": {
        "id": "BCgIwSwW9Ca5"
      },
      "execution_count": 17,
      "outputs": []
    },
    {
      "cell_type": "code",
      "source": [
        "bad_path = '/content/drive/MyDrive/MLSproject/models/bd_net.h5'\n",
        "repaired_path = '/content/drive/MyDrive/MLSproject/models/repaired_net_2.0.h5'\n",
        "bad_model = keras.models.load_model(bad_path)\n",
        "repaired_model = keras.models.load_model(repaired_path)\n",
        "prediction = GoodNet(bad_model,repaired_model, cl_test_x, N)"
      ],
      "metadata": {
        "id": "901VY1mHSjzR",
        "outputId": "cc6bf9eb-fda1-40b3-9e61-045cd4e93bdd",
        "colab": {
          "base_uri": "https://localhost:8080/"
        }
      },
      "execution_count": 18,
      "outputs": [
        {
          "output_type": "stream",
          "name": "stdout",
          "text": [
            "Predicted Class: Bad Net: 823, Repaired Net: 415, Good Net: 1283\n",
            "Predicted Class: Bad Net: 819, Repaired Net: 957, Good Net: 1283\n",
            "Predicted Class: Bad Net: 754, Repaired Net: 410, Good Net: 1283\n",
            "Predicted Class: Bad Net: 1276, Repaired Net: 66, Good Net: 1283\n",
            "Predicted Class: Bad Net: 529, Repaired Net: 25, Good Net: 1283\n",
            "Predicted Class: Bad Net: 736, Repaired Net: 648, Good Net: 1283\n",
            "Predicted Class: Bad Net: 214, Repaired Net: 543, Good Net: 1283\n",
            "Predicted Class: Bad Net: 214, Repaired Net: 543, Good Net: 1283\n",
            "Predicted Class: Bad Net: 302, Repaired Net: 952, Good Net: 1283\n",
            "Predicted Class: Bad Net: 823, Repaired Net: 1092, Good Net: 1283\n",
            "Predicted Class: Bad Net: 1142, Repaired Net: 211, Good Net: 1283\n",
            "Predicted Class: Bad Net: 478, Repaired Net: 667, Good Net: 1283\n",
            "Predicted Class: Bad Net: 1143, Repaired Net: 1154, Good Net: 1283\n",
            "Predicted Class: Bad Net: 1163, Repaired Net: 520, Good Net: 1283\n",
            "Predicted Class: Bad Net: 612, Repaired Net: 213, Good Net: 1283\n",
            "Predicted Class: Bad Net: 592, Repaired Net: 689, Good Net: 1283\n",
            "Predicted Class: Bad Net: 423, Repaired Net: 24, Good Net: 1283\n",
            "Predicted Class: Bad Net: 1018, Repaired Net: 1116, Good Net: 1283\n",
            "Predicted Class: Bad Net: 1018, Repaired Net: 599, Good Net: 1283\n",
            "Predicted Class: Bad Net: 38, Repaired Net: 656, Good Net: 1283\n",
            "Predicted Class: Bad Net: 875, Repaired Net: 878, Good Net: 1283\n",
            "Predicted Class: Bad Net: 1036, Repaired Net: 954, Good Net: 1283\n",
            "Predicted Class: Bad Net: 87, Repaired Net: 741, Good Net: 1283\n",
            "Predicted Class: Bad Net: 381, Repaired Net: 741, Good Net: 1283\n",
            "Predicted Class: Bad Net: 86, Repaired Net: 1030, Good Net: 1283\n",
            "Predicted Class: Bad Net: 161, Repaired Net: 715, Good Net: 1283\n",
            "Predicted Class: Bad Net: 676, Repaired Net: 887, Good Net: 1283\n",
            "Predicted Class: Bad Net: 102, Repaired Net: 962, Good Net: 1283\n",
            "Predicted Class: Bad Net: 133, Repaired Net: 591, Good Net: 1283\n",
            "Predicted Class: Bad Net: 459, Repaired Net: 927, Good Net: 1283\n",
            "Predicted Class: Bad Net: 426, Repaired Net: 867, Good Net: 1283\n",
            "Predicted Class: Bad Net: 460, Repaired Net: 135, Good Net: 1283\n",
            "Predicted Class: Bad Net: 776, Repaired Net: 1118, Good Net: 1283\n",
            "Predicted Class: Bad Net: 875, Repaired Net: 142, Good Net: 1283\n",
            "Predicted Class: Bad Net: 1018, Repaired Net: 719, Good Net: 1283\n",
            "Predicted Class: Bad Net: 716, Repaired Net: 623, Good Net: 1283\n",
            "Predicted Class: Bad Net: 552, Repaired Net: 17, Good Net: 1283\n",
            "Predicted Class: Bad Net: 1226, Repaired Net: 1023, Good Net: 1283\n",
            "Predicted Class: Bad Net: 1064, Repaired Net: 636, Good Net: 1283\n",
            "Predicted Class: Bad Net: 1046, Repaired Net: 1091, Good Net: 1283\n",
            "Predicted Class: Bad Net: 1105, Repaired Net: 24, Good Net: 1283\n",
            "Predicted Class: Bad Net: 65, Repaired Net: 962, Good Net: 1283\n",
            "Predicted Class: Bad Net: 275, Repaired Net: 274, Good Net: 1283\n",
            "Predicted Class: Bad Net: 268, Repaired Net: 211, Good Net: 1283\n",
            "Predicted Class: Bad Net: 1238, Repaired Net: 360, Good Net: 1283\n",
            "Predicted Class: Bad Net: 764, Repaired Net: 247, Good Net: 1283\n",
            "Predicted Class: Bad Net: 880, Repaired Net: 736, Good Net: 1283\n",
            "Predicted Class: Bad Net: 101, Repaired Net: 470, Good Net: 1283\n",
            "Predicted Class: Bad Net: 52, Repaired Net: 622, Good Net: 1283\n",
            "Predicted Class: Bad Net: 355, Repaired Net: 940, Good Net: 1283\n",
            "Predicted Class: Bad Net: 347, Repaired Net: 460, Good Net: 1283\n",
            "Predicted Class: Bad Net: 662, Repaired Net: 1016, Good Net: 1283\n",
            "Predicted Class: Bad Net: 214, Repaired Net: 543, Good Net: 1283\n",
            "Predicted Class: Bad Net: 472, Repaired Net: 1016, Good Net: 1283\n",
            "Predicted Class: Bad Net: 1152, Repaired Net: 1235, Good Net: 1283\n",
            "Predicted Class: Bad Net: 1019, Repaired Net: 318, Good Net: 1283\n",
            "Predicted Class: Bad Net: 201, Repaired Net: 1128, Good Net: 1283\n",
            "Predicted Class: Bad Net: 38, Repaired Net: 367, Good Net: 1283\n",
            "Predicted Class: Bad Net: 48, Repaired Net: 15, Good Net: 1283\n",
            "Predicted Class: Bad Net: 1031, Repaired Net: 1109, Good Net: 1283\n",
            "Predicted Class: Bad Net: 1203, Repaired Net: 497, Good Net: 1283\n",
            "Predicted Class: Bad Net: 1038, Repaired Net: 1242, Good Net: 1283\n",
            "Predicted Class: Bad Net: 651, Repaired Net: 867, Good Net: 1283\n",
            "Predicted Class: Bad Net: 1133, Repaired Net: 1185, Good Net: 1283\n",
            "Predicted Class: Bad Net: 1216, Repaired Net: 1138, Good Net: 1283\n",
            "Predicted Class: Bad Net: 1065, Repaired Net: 954, Good Net: 1283\n",
            "Predicted Class: Bad Net: 734, Repaired Net: 698, Good Net: 1283\n",
            "Predicted Class: Bad Net: 607, Repaired Net: 61, Good Net: 1283\n",
            "Predicted Class: Bad Net: 665, Repaired Net: 1216, Good Net: 1283\n",
            "Predicted Class: Bad Net: 457, Repaired Net: 219, Good Net: 1283\n",
            "Predicted Class: Bad Net: 749, Repaired Net: 854, Good Net: 1283\n",
            "Predicted Class: Bad Net: 875, Repaired Net: 142, Good Net: 1283\n",
            "Predicted Class: Bad Net: 7, Repaired Net: 1099, Good Net: 1283\n",
            "Predicted Class: Bad Net: 1099, Repaired Net: 698, Good Net: 1283\n",
            "Predicted Class: Bad Net: 1062, Repaired Net: 553, Good Net: 1283\n",
            "Predicted Class: Bad Net: 44, Repaired Net: 1065, Good Net: 1283\n",
            "Predicted Class: Bad Net: 7, Repaired Net: 687, Good Net: 1283\n",
            "Predicted Class: Bad Net: 1162, Repaired Net: 587, Good Net: 1283\n",
            "Predicted Class: Bad Net: 46, Repaired Net: 764, Good Net: 1283\n",
            "Predicted Class: Bad Net: 275, Repaired Net: 274, Good Net: 1283\n",
            "Predicted Class: Bad Net: 100, Repaired Net: 638, Good Net: 1283\n",
            "Predicted Class: Bad Net: 88, Repaired Net: 281, Good Net: 1283\n",
            "Predicted Class: Bad Net: 956, Repaired Net: 706, Good Net: 1283\n",
            "Predicted Class: Bad Net: 651, Repaired Net: 562, Good Net: 1283\n",
            "Predicted Class: Bad Net: 283, Repaired Net: 968, Good Net: 1283\n",
            "Predicted Class: Bad Net: 736, Repaired Net: 141, Good Net: 1283\n",
            "Predicted Class: Bad Net: 133, Repaired Net: 17, Good Net: 1283\n",
            "Predicted Class: Bad Net: 275, Repaired Net: 274, Good Net: 1283\n",
            "Predicted Class: Bad Net: 365, Repaired Net: 619, Good Net: 1283\n",
            "Predicted Class: Bad Net: 941, Repaired Net: 96, Good Net: 1283\n",
            "Predicted Class: Bad Net: 423, Repaired Net: 884, Good Net: 1283\n",
            "Predicted Class: Bad Net: 820, Repaired Net: 715, Good Net: 1283\n",
            "Predicted Class: Bad Net: 1222, Repaired Net: 1113, Good Net: 1283\n",
            "Predicted Class: Bad Net: 983, Repaired Net: 449, Good Net: 1283\n",
            "Predicted Class: Bad Net: 612, Repaired Net: 698, Good Net: 1283\n",
            "Predicted Class: Bad Net: 1208, Repaired Net: 512, Good Net: 1283\n",
            "Predicted Class: Bad Net: 1142, Repaired Net: 211, Good Net: 1283\n",
            "Predicted Class: Bad Net: 350, Repaired Net: 603, Good Net: 1283\n",
            "Predicted Class: Bad Net: 666, Repaired Net: 1063, Good Net: 1283\n",
            "Predicted Class: Bad Net: 1064, Repaired Net: 919, Good Net: 1283\n",
            "Predicted Class: Bad Net: 38, Repaired Net: 367, Good Net: 1283\n",
            "Predicted Class: Bad Net: 1069, Repaired Net: 52, Good Net: 1283\n",
            "Predicted Class: Bad Net: 175, Repaired Net: 891, Good Net: 1283\n",
            "Predicted Class: Bad Net: 110, Repaired Net: 330, Good Net: 1283\n",
            "Predicted Class: Bad Net: 278, Repaired Net: 951, Good Net: 1283\n",
            "Predicted Class: Bad Net: 1205, Repaired Net: 1139, Good Net: 1283\n",
            "Predicted Class: Bad Net: 480, Repaired Net: 96, Good Net: 1283\n",
            "Predicted Class: Bad Net: 977, Repaired Net: 656, Good Net: 1283\n",
            "Predicted Class: Bad Net: 364, Repaired Net: 339, Good Net: 1283\n",
            "Predicted Class: Bad Net: 1216, Repaired Net: 1145, Good Net: 1283\n",
            "Predicted Class: Bad Net: 782, Repaired Net: 472, Good Net: 1283\n",
            "Predicted Class: Bad Net: 49, Repaired Net: 1005, Good Net: 1283\n",
            "Predicted Class: Bad Net: 4, Repaired Net: 691, Good Net: 1283\n",
            "Predicted Class: Bad Net: 618, Repaired Net: 337, Good Net: 1283\n",
            "Predicted Class: Bad Net: 1027, Repaired Net: 767, Good Net: 1283\n",
            "Predicted Class: Bad Net: 361, Repaired Net: 800, Good Net: 1283\n",
            "Predicted Class: Bad Net: 477, Repaired Net: 599, Good Net: 1283\n",
            "Predicted Class: Bad Net: 326, Repaired Net: 1217, Good Net: 1283\n",
            "Predicted Class: Bad Net: 268, Repaired Net: 1135, Good Net: 1283\n",
            "Predicted Class: Bad Net: 437, Repaired Net: 180, Good Net: 1283\n",
            "Predicted Class: Bad Net: 396, Repaired Net: 962, Good Net: 1283\n",
            "Predicted Class: Bad Net: 423, Repaired Net: 186, Good Net: 1283\n",
            "Predicted Class: Bad Net: 1142, Repaired Net: 1053, Good Net: 1283\n",
            "Predicted Class: Bad Net: 1025, Repaired Net: 549, Good Net: 1283\n",
            "Predicted Class: Bad Net: 1203, Repaired Net: 438, Good Net: 1283\n",
            "Predicted Class: Bad Net: 1033, Repaired Net: 1249, Good Net: 1283\n",
            "Predicted Class: Bad Net: 1029, Repaired Net: 512, Good Net: 1283\n",
            "Predicted Class: Bad Net: 322, Repaired Net: 1126, Good Net: 1283\n",
            "Predicted Class: Bad Net: 1031, Repaired Net: 928, Good Net: 1283\n",
            "Predicted Class: Bad Net: 219, Repaired Net: 331, Good Net: 1283\n",
            "Predicted Class: Bad Net: 1237, Repaired Net: 918, Good Net: 1283\n",
            "Predicted Class: Bad Net: 48, Repaired Net: 15, Good Net: 1283\n",
            "Predicted Class: Bad Net: 341, Repaired Net: 25, Good Net: 1283\n",
            "Predicted Class: Bad Net: 696, Repaired Net: 919, Good Net: 1283\n",
            "Predicted Class: Bad Net: 880, Repaired Net: 123, Good Net: 1283\n",
            "Predicted Class: Bad Net: 473, Repaired Net: 833, Good Net: 1283\n",
            "Predicted Class: Bad Net: 664, Repaired Net: 213, Good Net: 1283\n",
            "Predicted Class: Bad Net: 880, Repaired Net: 719, Good Net: 1283\n",
            "Predicted Class: Bad Net: 440, Repaired Net: 706, Good Net: 1283\n",
            "Predicted Class: Bad Net: 665, Repaired Net: 86, Good Net: 1283\n",
            "Predicted Class: Bad Net: 521, Repaired Net: 289, Good Net: 1283\n",
            "Predicted Class: Bad Net: 914, Repaired Net: 679, Good Net: 1283\n",
            "Predicted Class: Bad Net: 54, Repaired Net: 685, Good Net: 1283\n",
            "Predicted Class: Bad Net: 1031, Repaired Net: 1113, Good Net: 1283\n",
            "Predicted Class: Bad Net: 914, Repaired Net: 679, Good Net: 1283\n",
            "Predicted Class: Bad Net: 203, Repaired Net: 1053, Good Net: 1283\n",
            "Predicted Class: Bad Net: 110, Repaired Net: 856, Good Net: 1283\n",
            "Predicted Class: Bad Net: 974, Repaired Net: 24, Good Net: 1283\n",
            "Predicted Class: Bad Net: 365, Repaired Net: 909, Good Net: 1283\n",
            "Predicted Class: Bad Net: 1027, Repaired Net: 829, Good Net: 1283\n",
            "Predicted Class: Bad Net: 423, Repaired Net: 884, Good Net: 1283\n",
            "Predicted Class: Bad Net: 780, Repaired Net: 657, Good Net: 1283\n",
            "Predicted Class: Bad Net: 761, Repaired Net: 327, Good Net: 1283\n",
            "Predicted Class: Bad Net: 423, Repaired Net: 730, Good Net: 1283\n",
            "Predicted Class: Bad Net: 572, Repaired Net: 926, Good Net: 1283\n",
            "Predicted Class: Bad Net: 592, Repaired Net: 211, Good Net: 1283\n",
            "Predicted Class: Bad Net: 204, Repaired Net: 13, Good Net: 1283\n",
            "Predicted Class: Bad Net: 305, Repaired Net: 112, Good Net: 1283\n",
            "Predicted Class: Bad Net: 1214, Repaired Net: 867, Good Net: 1283\n",
            "Predicted Class: Bad Net: 1091, Repaired Net: 147, Good Net: 1283\n",
            "Predicted Class: Bad Net: 426, Repaired Net: 867, Good Net: 1283\n",
            "Predicted Class: Bad Net: 1208, Repaired Net: 512, Good Net: 1283\n",
            "Predicted Class: Bad Net: 1025, Repaired Net: 677, Good Net: 1283\n",
            "Predicted Class: Bad Net: 844, Repaired Net: 1196, Good Net: 1283\n",
            "Predicted Class: Bad Net: 788, Repaired Net: 1005, Good Net: 1283\n",
            "Predicted Class: Bad Net: 1031, Repaired Net: 1109, Good Net: 1283\n",
            "Predicted Class: Bad Net: 644, Repaired Net: 841, Good Net: 1283\n",
            "Predicted Class: Bad Net: 1069, Repaired Net: 221, Good Net: 1283\n",
            "Predicted Class: Bad Net: 949, Repaired Net: 1065, Good Net: 1283\n",
            "Predicted Class: Bad Net: 1007, Repaired Net: 846, Good Net: 1283\n",
            "Predicted Class: Bad Net: 1227, Repaired Net: 269, Good Net: 1283\n",
            "Predicted Class: Bad Net: 322, Repaired Net: 1126, Good Net: 1283\n",
            "Predicted Class: Bad Net: 1226, Repaired Net: 952, Good Net: 1283\n",
            "Predicted Class: Bad Net: 457, Repaired Net: 850, Good Net: 1283\n",
            "Predicted Class: Bad Net: 780, Repaired Net: 761, Good Net: 1283\n",
            "Predicted Class: Bad Net: 869, Repaired Net: 872, Good Net: 1283\n",
            "Predicted Class: Bad Net: 476, Repaired Net: 962, Good Net: 1283\n",
            "Predicted Class: Bad Net: 880, Repaired Net: 639, Good Net: 1283\n",
            "Predicted Class: Bad Net: 550, Repaired Net: 159, Good Net: 1283\n",
            "Predicted Class: Bad Net: 104, Repaired Net: 294, Good Net: 1283\n",
            "Predicted Class: Bad Net: 757, Repaired Net: 649, Good Net: 1283\n",
            "Predicted Class: Bad Net: 268, Repaired Net: 449, Good Net: 1283\n",
            "Predicted Class: Bad Net: 1029, Repaired Net: 962, Good Net: 1283\n",
            "Predicted Class: Bad Net: 1222, Repaired Net: 1113, Good Net: 1283\n",
            "Predicted Class: Bad Net: 1203, Repaired Net: 1138, Good Net: 1283\n",
            "Predicted Class: Bad Net: 1065, Repaired Net: 1066, Good Net: 1283\n",
            "Predicted Class: Bad Net: 945, Repaired Net: 649, Good Net: 1283\n",
            "Predicted Class: Bad Net: 214, Repaired Net: 543, Good Net: 1283\n",
            "Predicted Class: Bad Net: 734, Repaired Net: 698, Good Net: 1283\n",
            "Predicted Class: Bad Net: 291, Repaired Net: 846, Good Net: 1283\n",
            "Predicted Class: Bad Net: 86, Repaired Net: 1030, Good Net: 1283\n",
            "Predicted Class: Bad Net: 101, Repaired Net: 470, Good Net: 1283\n",
            "Predicted Class: Bad Net: 757, Repaired Net: 26, Good Net: 1283\n",
            "Predicted Class: Bad Net: 132, Repaired Net: 667, Good Net: 1283\n",
            "Predicted Class: Bad Net: 1025, Repaired Net: 135, Good Net: 1283\n",
            "Predicted Class: Bad Net: 1202, Repaired Net: 1069, Good Net: 1283\n",
            "Predicted Class: Bad Net: 322, Repaired Net: 1126, Good Net: 1283\n",
            "Predicted Class: Bad Net: 347, Repaired Net: 831, Good Net: 1283\n",
            "Predicted Class: Bad Net: 1238, Repaired Net: 25, Good Net: 1283\n",
            "Predicted Class: Bad Net: 607, Repaired Net: 1120, Good Net: 1283\n",
            "Predicted Class: Bad Net: 115, Repaired Net: 52, Good Net: 1283\n",
            "Predicted Class: Bad Net: 736, Repaired Net: 648, Good Net: 1283\n",
            "Predicted Class: Bad Net: 1222, Repaired Net: 875, Good Net: 1283\n",
            "Predicted Class: Bad Net: 860, Repaired Net: 595, Good Net: 1283\n",
            "Predicted Class: Bad Net: 513, Repaired Net: 125, Good Net: 1283\n",
            "Predicted Class: Bad Net: 355, Repaired Net: 513, Good Net: 1283\n",
            "Predicted Class: Bad Net: 249, Repaired Net: 255, Good Net: 1283\n",
            "Predicted Class: Bad Net: 765, Repaired Net: 407, Good Net: 1283\n",
            "Predicted Class: Bad Net: 243, Repaired Net: 78, Good Net: 1283\n",
            "Predicted Class: Bad Net: 355, Repaired Net: 117, Good Net: 1283\n",
            "Predicted Class: Bad Net: 298, Repaired Net: 96, Good Net: 1283\n",
            "Predicted Class: Bad Net: 326, Repaired Net: 551, Good Net: 1283\n",
            "Predicted Class: Bad Net: 1238, Repaired Net: 25, Good Net: 1283\n",
            "Predicted Class: Bad Net: 1046, Repaired Net: 884, Good Net: 1283\n",
            "Predicted Class: Bad Net: 1227, Repaired Net: 1201, Good Net: 1283\n",
            "Predicted Class: Bad Net: 49, Repaired Net: 734, Good Net: 1283\n",
            "Predicted Class: Bad Net: 470, Repaired Net: 1249, Good Net: 1283\n",
            "Predicted Class: Bad Net: 518, Repaired Net: 576, Good Net: 1283\n",
            "Predicted Class: Bad Net: 133, Repaired Net: 591, Good Net: 1283\n",
            "Predicted Class: Bad Net: 719, Repaired Net: 941, Good Net: 1283\n",
            "Predicted Class: Bad Net: 411, Repaired Net: 916, Good Net: 1283\n",
            "Predicted Class: Bad Net: 631, Repaired Net: 239, Good Net: 1283\n",
            "Predicted Class: Bad Net: 838, Repaired Net: 891, Good Net: 1283\n",
            "Predicted Class: Bad Net: 868, Repaired Net: 694, Good Net: 1283\n",
            "Predicted Class: Bad Net: 423, Repaired Net: 884, Good Net: 1283\n",
            "Predicted Class: Bad Net: 875, Repaired Net: 941, Good Net: 1283\n",
            "Predicted Class: Bad Net: 1027, Repaired Net: 767, Good Net: 1283\n",
            "Predicted Class: Bad Net: 994, Repaired Net: 621, Good Net: 1283\n",
            "Predicted Class: Bad Net: 26, Repaired Net: 811, Good Net: 1283\n",
            "Predicted Class: Bad Net: 335, Repaired Net: 649, Good Net: 1283\n",
            "Predicted Class: Bad Net: 1069, Repaired Net: 968, Good Net: 1283\n",
            "Predicted Class: Bad Net: 998, Repaired Net: 283, Good Net: 1283\n",
            "Predicted Class: Bad Net: 753, Repaired Net: 1034, Good Net: 1283\n",
            "Predicted Class: Bad Net: 607, Repaired Net: 424, Good Net: 1283\n",
            "Predicted Class: Bad Net: 44, Repaired Net: 1065, Good Net: 1283\n",
            "Predicted Class: Bad Net: 423, Repaired Net: 850, Good Net: 1283\n",
            "Predicted Class: Bad Net: 298, Repaired Net: 96, Good Net: 1283\n",
            "Predicted Class: Bad Net: 1214, Repaired Net: 211, Good Net: 1283\n",
            "Predicted Class: Bad Net: 572, Repaired Net: 926, Good Net: 1283\n",
            "Predicted Class: Bad Net: 994, Repaired Net: 822, Good Net: 1283\n",
            "Predicted Class: Bad Net: 409, Repaired Net: 715, Good Net: 1283\n",
            "Predicted Class: Bad Net: 239, Repaired Net: 398, Good Net: 1283\n",
            "Predicted Class: Bad Net: 98, Repaired Net: 1008, Good Net: 1283\n",
            "Predicted Class: Bad Net: 761, Repaired Net: 61, Good Net: 1283\n",
            "Predicted Class: Bad Net: 368, Repaired Net: 836, Good Net: 1283\n",
            "Predicted Class: Bad Net: 820, Repaired Net: 867, Good Net: 1283\n",
            "Predicted Class: Bad Net: 535, Repaired Net: 89, Good Net: 1283\n",
            "Predicted Class: Bad Net: 169, Repaired Net: 648, Good Net: 1283\n",
            "Predicted Class: Bad Net: 98, Repaired Net: 1008, Good Net: 1283\n",
            "Predicted Class: Bad Net: 552, Repaired Net: 17, Good Net: 1283\n",
            "Predicted Class: Bad Net: 572, Repaired Net: 926, Good Net: 1283\n",
            "Predicted Class: Bad Net: 1025, Repaired Net: 941, Good Net: 1283\n",
            "Predicted Class: Bad Net: 723, Repaired Net: 668, Good Net: 1283\n",
            "Predicted Class: Bad Net: 844, Repaired Net: 202, Good Net: 1283\n",
            "Predicted Class: Bad Net: 1208, Repaired Net: 512, Good Net: 1283\n",
            "Predicted Class: Bad Net: 1031, Repaired Net: 1113, Good Net: 1283\n",
            "Predicted Class: Bad Net: 284, Repaired Net: 243, Good Net: 1283\n",
            "Predicted Class: Bad Net: 470, Repaired Net: 1249, Good Net: 1283\n",
            "Predicted Class: Bad Net: 101, Repaired Net: 470, Good Net: 1283\n",
            "Predicted Class: Bad Net: 343, Repaired Net: 4, Good Net: 1283\n",
            "Predicted Class: Bad Net: 364, Repaired Net: 4, Good Net: 1283\n",
            "Predicted Class: Bad Net: 1070, Repaired Net: 417, Good Net: 1283\n",
            "Predicted Class: Bad Net: 343, Repaired Net: 4, Good Net: 1283\n",
            "Predicted Class: Bad Net: 637, Repaired Net: 25, Good Net: 1283\n",
            "Predicted Class: Bad Net: 31, Repaired Net: 679, Good Net: 1283\n",
            "Predicted Class: Bad Net: 651, Repaired Net: 867, Good Net: 1283\n",
            "Predicted Class: Bad Net: 534, Repaired Net: 435, Good Net: 1283\n",
            "Predicted Class: Bad Net: 698, Repaired Net: 371, Good Net: 1283\n",
            "Predicted Class: Bad Net: 347, Repaired Net: 460, Good Net: 1283\n",
            "Predicted Class: Bad Net: 460, Repaired Net: 253, Good Net: 1283\n",
            "Predicted Class: Bad Net: 1018, Repaired Net: 682, Good Net: 1283\n",
            "Predicted Class: Bad Net: 1038, Repaired Net: 934, Good Net: 1283\n",
            "Predicted Class: Bad Net: 685, Repaired Net: 54, Good Net: 1283\n",
            "Predicted Class: Bad Net: 903, Repaired Net: 344, Good Net: 1283\n",
            "Predicted Class: Bad Net: 268, Repaired Net: 211, Good Net: 1283\n",
            "Predicted Class: Bad Net: 380, Repaired Net: 24, Good Net: 1283\n",
            "Predicted Class: Bad Net: 607, Repaired Net: 1143, Good Net: 1283\n",
            "Predicted Class: Bad Net: 44, Repaired Net: 1065, Good Net: 1283\n",
            "Predicted Class: Bad Net: 1065, Repaired Net: 569, Good Net: 1283\n",
            "Predicted Class: Bad Net: 1018, Repaired Net: 25, Good Net: 1283\n",
            "Predicted Class: Bad Net: 1208, Repaired Net: 512, Good Net: 1283\n",
            "Predicted Class: Bad Net: 98, Repaired Net: 1008, Good Net: 1283\n",
            "Predicted Class: Bad Net: 1202, Repaired Net: 0, Good Net: 1283\n",
            "Predicted Class: Bad Net: 275, Repaired Net: 274, Good Net: 1283\n",
            "Predicted Class: Bad Net: 676, Repaired Net: 764, Good Net: 1283\n",
            "Predicted Class: Bad Net: 875, Repaired Net: 371, Good Net: 1283\n",
            "Predicted Class: Bad Net: 978, Repaired Net: 622, Good Net: 1283\n",
            "Predicted Class: Bad Net: 708, Repaired Net: 1069, Good Net: 1283\n",
            "Predicted Class: Bad Net: 1065, Repaired Net: 124, Good Net: 1283\n",
            "Predicted Class: Bad Net: 298, Repaired Net: 96, Good Net: 1283\n",
            "Predicted Class: Bad Net: 1025, Repaired Net: 54, Good Net: 1283\n",
            "Predicted Class: Bad Net: 133, Repaired Net: 591, Good Net: 1283\n",
            "Predicted Class: Bad Net: 143, Repaired Net: 1216, Good Net: 1283\n",
            "Predicted Class: Bad Net: 98, Repaired Net: 1008, Good Net: 1283\n",
            "Predicted Class: Bad Net: 916, Repaired Net: 615, Good Net: 1283\n",
            "Predicted Class: Bad Net: 1214, Repaired Net: 61, Good Net: 1283\n",
            "Predicted Class: Bad Net: 65, Repaired Net: 667, Good Net: 1283\n",
            "Predicted Class: Bad Net: 433, Repaired Net: 1121, Good Net: 1283\n",
            "Predicted Class: Bad Net: 757, Repaired Net: 230, Good Net: 1283\n",
            "Predicted Class: Bad Net: 26, Repaired Net: 1063, Good Net: 1283\n",
            "Predicted Class: Bad Net: 1031, Repaired Net: 928, Good Net: 1283\n",
            "Predicted Class: Bad Net: 666, Repaired Net: 573, Good Net: 1283\n",
            "Predicted Class: Bad Net: 140, Repaired Net: 543, Good Net: 1283\n",
            "Predicted Class: Bad Net: 1100, Repaired Net: 885, Good Net: 1283\n",
            "Predicted Class: Bad Net: 7, Repaired Net: 705, Good Net: 1283\n",
            "Predicted Class: Bad Net: 880, Repaired Net: 143, Good Net: 1283\n",
            "Predicted Class: Bad Net: 714, Repaired Net: 79, Good Net: 1283\n",
            "Predicted Class: Bad Net: 811, Repaired Net: 403, Good Net: 1283\n",
            "Predicted Class: Bad Net: 709, Repaired Net: 464, Good Net: 1283\n",
            "Predicted Class: Bad Net: 892, Repaired Net: 345, Good Net: 1283\n",
            "Predicted Class: Bad Net: 275, Repaired Net: 274, Good Net: 1283\n",
            "Predicted Class: Bad Net: 982, Repaired Net: 24, Good Net: 1283\n",
            "Predicted Class: Bad Net: 1238, Repaired Net: 25, Good Net: 1283\n",
            "Predicted Class: Bad Net: 780, Repaired Net: 657, Good Net: 1283\n",
            "Predicted Class: Bad Net: 298, Repaired Net: 96, Good Net: 1283\n",
            "Predicted Class: Bad Net: 676, Repaired Net: 1216, Good Net: 1283\n",
            "Predicted Class: Bad Net: 291, Repaired Net: 897, Good Net: 1283\n",
            "Predicted Class: Bad Net: 1105, Repaired Net: 25, Good Net: 1283\n",
            "Predicted Class: Bad Net: 552, Repaired Net: 1226, Good Net: 1283\n",
            "Predicted Class: Bad Net: 1027, Repaired Net: 331, Good Net: 1283\n",
            "Predicted Class: Bad Net: 822, Repaired Net: 951, Good Net: 1283\n",
            "Predicted Class: Bad Net: 1025, Repaired Net: 135, Good Net: 1283\n",
            "Predicted Class: Bad Net: 260, Repaired Net: 492, Good Net: 1283\n",
            "Predicted Class: Bad Net: 326, Repaired Net: 1217, Good Net: 1283\n",
            "Predicted Class: Bad Net: 1179, Repaired Net: 357, Good Net: 1283\n",
            "Predicted Class: Bad Net: 883, Repaired Net: 689, Good Net: 1283\n",
            "Predicted Class: Bad Net: 720, Repaired Net: 1023, Good Net: 1283\n",
            "Predicted Class: Bad Net: 1222, Repaired Net: 1109, Good Net: 1283\n",
            "Predicted Class: Bad Net: 343, Repaired Net: 4, Good Net: 1283\n",
            "Predicted Class: Bad Net: 455, Repaired Net: 811, Good Net: 1283\n",
            "Predicted Class: Bad Net: 104, Repaired Net: 940, Good Net: 1283\n",
            "Predicted Class: Bad Net: 89, Repaired Net: 397, Good Net: 1283\n",
            "Predicted Class: Bad Net: 1015, Repaired Net: 698, Good Net: 1283\n",
            "Predicted Class: Bad Net: 1222, Repaired Net: 1113, Good Net: 1283\n",
            "Predicted Class: Bad Net: 1222, Repaired Net: 1000, Good Net: 1283\n",
            "Predicted Class: Bad Net: 401, Repaired Net: 1132, Good Net: 1283\n",
            "Predicted Class: Bad Net: 552, Repaired Net: 132, Good Net: 1283\n",
            "Predicted Class: Bad Net: 249, Repaired Net: 322, Good Net: 1283\n",
            "Predicted Class: Bad Net: 132, Repaired Net: 667, Good Net: 1283\n",
            "Predicted Class: Bad Net: 214, Repaired Net: 1152, Good Net: 1283\n",
            "Predicted Class: Bad Net: 1222, Repaired Net: 1000, Good Net: 1283\n",
            "Predicted Class: Bad Net: 458, Repaired Net: 33, Good Net: 1283\n",
            "Predicted Class: Bad Net: 1027, Repaired Net: 767, Good Net: 1283\n",
            "Predicted Class: Bad Net: 275, Repaired Net: 274, Good Net: 1283\n",
            "Predicted Class: Bad Net: 512, Repaired Net: 1065, Good Net: 1283\n",
            "Predicted Class: Bad Net: 746, Repaired Net: 1268, Good Net: 1283\n",
            "Predicted Class: Bad Net: 880, Repaired Net: 960, Good Net: 1283\n",
            "Predicted Class: Bad Net: 552, Repaired Net: 1226, Good Net: 1283\n",
            "Predicted Class: Bad Net: 667, Repaired Net: 135, Good Net: 1283\n",
            "Predicted Class: Bad Net: 1214, Repaired Net: 867, Good Net: 1283\n",
            "Predicted Class: Bad Net: 380, Repaired Net: 766, Good Net: 1283\n",
            "Predicted Class: Bad Net: 880, Repaired Net: 736, Good Net: 1283\n",
            "Predicted Class: Bad Net: 423, Repaired Net: 787, Good Net: 1283\n",
            "Predicted Class: Bad Net: 260, Repaired Net: 345, Good Net: 1283\n",
            "Predicted Class: Bad Net: 283, Repaired Net: 25, Good Net: 1283\n",
            "Predicted Class: Bad Net: 949, Repaired Net: 698, Good Net: 1283\n",
            "Predicted Class: Bad Net: 504, Repaired Net: 905, Good Net: 1283\n",
            "Predicted Class: Bad Net: 720, Repaired Net: 1023, Good Net: 1283\n",
            "Predicted Class: Bad Net: 612, Repaired Net: 69, Good Net: 1283\n",
            "Predicted Class: Bad Net: 364, Repaired Net: 339, Good Net: 1283\n",
            "Predicted Class: Bad Net: 249, Repaired Net: 1063, Good Net: 1283\n",
            "Predicted Class: Bad Net: 294, Repaired Net: 777, Good Net: 1283\n",
            "Predicted Class: Bad Net: 396, Repaired Net: 962, Good Net: 1283\n",
            "Predicted Class: Bad Net: 411, Repaired Net: 708, Good Net: 1283\n",
            "Predicted Class: Bad Net: 455, Repaired Net: 811, Good Net: 1283\n",
            "Predicted Class: Bad Net: 1029, Repaired Net: 1167, Good Net: 1283\n",
            "Predicted Class: Bad Net: 1143, Repaired Net: 217, Good Net: 1283\n",
            "Predicted Class: Bad Net: 355, Repaired Net: 513, Good Net: 1283\n",
            "Predicted Class: Bad Net: 1222, Repaired Net: 822, Good Net: 1283\n",
            "Predicted Class: Bad Net: 87, Repaired Net: 460, Good Net: 1283\n",
            "Predicted Class: Bad Net: 372, Repaired Net: 1134, Good Net: 1283\n",
            "Predicted Class: Bad Net: 1028, Repaired Net: 1005, Good Net: 1283\n",
            "Predicted Class: Bad Net: 402, Repaired Net: 512, Good Net: 1283\n",
            "Predicted Class: Bad Net: 283, Repaired Net: 25, Good Net: 1283\n",
            "Predicted Class: Bad Net: 214, Repaired Net: 861, Good Net: 1283\n",
            "Predicted Class: Bad Net: 131, Repaired Net: 656, Good Net: 1283\n",
            "Predicted Class: Bad Net: 639, Repaired Net: 1092, Good Net: 1283\n",
            "Predicted Class: Bad Net: 461, Repaired Net: 271, Good Net: 1283\n",
            "Predicted Class: Bad Net: 875, Repaired Net: 142, Good Net: 1283\n",
            "Predicted Class: Bad Net: 1272, Repaired Net: 687, Good Net: 1283\n",
            "Predicted Class: Bad Net: 1222, Repaired Net: 543, Good Net: 1283\n",
            "Predicted Class: Bad Net: 901, Repaired Net: 667, Good Net: 1283\n",
            "Predicted Class: Bad Net: 143, Repaired Net: 69, Good Net: 1283\n",
            "Predicted Class: Bad Net: 820, Repaired Net: 212, Good Net: 1283\n",
            "Predicted Class: Bad Net: 30, Repaired Net: 921, Good Net: 1283\n",
            "Predicted Class: Bad Net: 17, Repaired Net: 770, Good Net: 1283\n",
            "Predicted Class: Bad Net: 268, Repaired Net: 211, Good Net: 1283\n",
            "Predicted Class: Bad Net: 68, Repaired Net: 512, Good Net: 1283\n",
            "Predicted Class: Bad Net: 815, Repaired Net: 643, Good Net: 1283\n",
            "Predicted Class: Bad Net: 1238, Repaired Net: 51, Good Net: 1283\n",
            "Predicted Class: Bad Net: 1080, Repaired Net: 889, Good Net: 1283\n",
            "Predicted Class: Bad Net: 793, Repaired Net: 54, Good Net: 1283\n",
            "Predicted Class: Bad Net: 98, Repaired Net: 1008, Good Net: 1283\n",
            "Predicted Class: Bad Net: 38, Repaired Net: 367, Good Net: 1283\n",
            "Predicted Class: Bad Net: 28, Repaired Net: 54, Good Net: 1283\n",
            "Predicted Class: Bad Net: 639, Repaired Net: 112, Good Net: 1283\n",
            "Predicted Class: Bad Net: 249, Repaired Net: 1126, Good Net: 1283\n",
            "Predicted Class: Bad Net: 604, Repaired Net: 683, Good Net: 1283\n",
            "Predicted Class: Bad Net: 49, Repaired Net: 604, Good Net: 1283\n",
            "Predicted Class: Bad Net: 589, Repaired Net: 134, Good Net: 1283\n",
            "Predicted Class: Bad Net: 736, Repaired Net: 648, Good Net: 1283\n",
            "Predicted Class: Bad Net: 952, Repaired Net: 513, Good Net: 1283\n",
            "Predicted Class: Bad Net: 7, Repaired Net: 687, Good Net: 1283\n",
            "Predicted Class: Bad Net: 1202, Repaired Net: 912, Good Net: 1283\n",
            "Predicted Class: Bad Net: 134, Repaired Net: 348, Good Net: 1283\n",
            "Predicted Class: Bad Net: 1018, Repaired Net: 1116, Good Net: 1283\n",
            "Predicted Class: Bad Net: 1082, Repaired Net: 921, Good Net: 1283\n",
            "Predicted Class: Bad Net: 880, Repaired Net: 736, Good Net: 1283\n",
            "Predicted Class: Bad Net: 636, Repaired Net: 413, Good Net: 1283\n",
            "Predicted Class: Bad Net: 612, Repaired Net: 213, Good Net: 1283\n",
            "Predicted Class: Bad Net: 7, Repaired Net: 919, Good Net: 1283\n",
            "Predicted Class: Bad Net: 455, Repaired Net: 553, Good Net: 1283\n",
            "Predicted Class: Bad Net: 1222, Repaired Net: 1113, Good Net: 1283\n",
            "Predicted Class: Bad Net: 892, Repaired Net: 764, Good Net: 1283\n",
            "Predicted Class: Bad Net: 260, Repaired Net: 698, Good Net: 1283\n",
            "Predicted Class: Bad Net: 411, Repaired Net: 219, Good Net: 1283\n",
            "Predicted Class: Bad Net: 569, Repaired Net: 481, Good Net: 1283\n",
            "Predicted Class: Bad Net: 1213, Repaired Net: 702, Good Net: 1283\n",
            "Predicted Class: Bad Net: 341, Repaired Net: 75, Good Net: 1283\n",
            "Predicted Class: Bad Net: 1018, Repaired Net: 719, Good Net: 1283\n",
            "Predicted Class: Bad Net: 1142, Repaired Net: 211, Good Net: 1283\n",
            "Predicted Class: Bad Net: 552, Repaired Net: 1226, Good Net: 1283\n",
            "There are 422 backdoored inputs predicted as new class 1283 now.\n"
          ]
        }
      ]
    },
    {
      "cell_type": "markdown",
      "source": [
        "# Evaluate\n",
        "The repaired networks will be evaluated\n",
        "using the evaluation script (eval.py) on this website https://github.com/csaw-hackml/\n",
        "CSAW-HackML-2020."
      ],
      "metadata": {
        "id": "5_QQfUcF9WXs"
      }
    },
    {
      "cell_type": "code",
      "source": [
        "#X = 2%\n",
        "!python original_eval.py data/cl/test.h5 data/bd/bd_test.h5 models/repaired_net_2.0.h5"
      ],
      "metadata": {
        "id": "DWlMD1KmU6X-",
        "outputId": "3d6fb003-6a8a-4ad5-d066-222a7633b543",
        "colab": {
          "base_uri": "https://localhost:8080/"
        }
      },
      "execution_count": 24,
      "outputs": [
        {
          "output_type": "stream",
          "name": "stdout",
          "text": [
            "2021-12-14 15:39:26.720611: W tensorflow/core/common_runtime/gpu/gpu_bfc_allocator.cc:39] Overriding allow_growth setting because the TF_FORCE_GPU_ALLOW_GROWTH environment variable is set. Original config value was 0.\n",
            "2021-12-14 15:39:27.190236: W tensorflow/core/framework/cpu_allocator_impl.cc:82] Allocation of 397986600 exceeds 10% of free system memory.\n",
            "Clean Classification accuracy: 95.90023382696803\n",
            "2021-12-14 15:39:29.815306: W tensorflow/core/framework/cpu_allocator_impl.cc:82] Allocation of 397986600 exceeds 10% of free system memory.\n",
            "Attack Success Rate: 100.0\n"
          ]
        }
      ]
    },
    {
      "cell_type": "code",
      "source": [
        "#X = 4%\n",
        "!python original_eval.py data/cl/test.h5 data/bd/bd_test.h5 models/repaired_net_4.0.h5"
      ],
      "metadata": {
        "id": "k2pcLKs6mW94",
        "outputId": "ba525262-f5de-4f8c-8234-ff108f934840",
        "colab": {
          "base_uri": "https://localhost:8080/"
        }
      },
      "execution_count": 25,
      "outputs": [
        {
          "output_type": "stream",
          "name": "stdout",
          "text": [
            "2021-12-14 15:41:29.102857: W tensorflow/core/common_runtime/gpu/gpu_bfc_allocator.cc:39] Overriding allow_growth setting because the TF_FORCE_GPU_ALLOW_GROWTH environment variable is set. Original config value was 0.\n",
            "2021-12-14 15:41:31.553592: W tensorflow/core/framework/cpu_allocator_impl.cc:82] Allocation of 397986600 exceeds 10% of free system memory.\n",
            "Clean Classification accuracy: 94.77007014809041\n",
            "2021-12-14 15:41:34.193735: W tensorflow/core/framework/cpu_allocator_impl.cc:82] Allocation of 397986600 exceeds 10% of free system memory.\n",
            "Attack Success Rate: 99.98441153546376\n"
          ]
        }
      ]
    },
    {
      "cell_type": "code",
      "source": [
        "#X = 10%\n",
        "!python original_eval.py data/cl/test.h5 data/bd/bd_test.h5 models/repaired_net_10.0.h5"
      ],
      "metadata": {
        "id": "JFR6tTlwm0dn",
        "outputId": "e4bea0e2-b6c3-451c-c757-632d7c708327",
        "colab": {
          "base_uri": "https://localhost:8080/"
        }
      },
      "execution_count": 26,
      "outputs": [
        {
          "output_type": "stream",
          "name": "stdout",
          "text": [
            "2021-12-14 15:41:54.795073: W tensorflow/core/common_runtime/gpu/gpu_bfc_allocator.cc:39] Overriding allow_growth setting because the TF_FORCE_GPU_ALLOW_GROWTH environment variable is set. Original config value was 0.\n",
            "2021-12-14 15:41:57.998685: W tensorflow/core/framework/cpu_allocator_impl.cc:82] Allocation of 397986600 exceeds 10% of free system memory.\n",
            "Clean Classification accuracy: 84.54403741231489\n",
            "2021-12-14 15:42:00.604936: W tensorflow/core/framework/cpu_allocator_impl.cc:82] Allocation of 397986600 exceeds 10% of free system memory.\n",
            "Attack Success Rate: 77.20966484801247\n"
          ]
        }
      ]
    },
    {
      "cell_type": "code",
      "source": [
        "#X = 30%\n",
        "!python original_eval.py data/cl/test.h5 data/bd/bd_test.h5 models/repaired_net_30.0.h5"
      ],
      "metadata": {
        "id": "o9ZxGVgqm6dL",
        "outputId": "a060b40c-ef9d-4f90-9c4f-08099de11d7b",
        "colab": {
          "base_uri": "https://localhost:8080/"
        }
      },
      "execution_count": 27,
      "outputs": [
        {
          "output_type": "stream",
          "name": "stdout",
          "text": [
            "2021-12-14 15:42:19.543650: W tensorflow/core/common_runtime/gpu/gpu_bfc_allocator.cc:39] Overriding allow_growth setting because the TF_FORCE_GPU_ALLOW_GROWTH environment variable is set. Original config value was 0.\n",
            "2021-12-14 15:42:22.009519: W tensorflow/core/framework/cpu_allocator_impl.cc:82] Allocation of 397986600 exceeds 10% of free system memory.\n",
            "Clean Classification accuracy: 44.67653936087295\n",
            "2021-12-14 15:42:24.647665: W tensorflow/core/framework/cpu_allocator_impl.cc:82] Allocation of 397986600 exceeds 10% of free system memory.\n",
            "Attack Success Rate: 16.03273577552611\n"
          ]
        }
      ]
    }
  ]
}